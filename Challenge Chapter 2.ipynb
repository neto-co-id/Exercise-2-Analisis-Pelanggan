{
  "cells": [
    {
      "cell_type": "markdown",
      "metadata": {
        "id": "xRJgR9mMRrmh"
      },
      "source": [
        "# **MODULE AND PACKAGE**\n",
        "\n",
        "---\n",
        "\n"
      ]
    },
    {
      "cell_type": "code",
      "execution_count": null,
      "metadata": {
        "id": "8JkMRL_RR4jm"
      },
      "outputs": [],
      "source": [
        "# Data manipulation\n",
        "import pandas as pd\n",
        "import numpy as np\n",
        "\n",
        "# Data visualization\n",
        "import seaborn as sns\n",
        "import matplotlib.pyplot as plt\n",
        "import plotly.graph_objs as go\n",
        "import plotly.express as px\n",
        "\n",
        "# Modeling\n",
        "from sklearn.model_selection import train_test_split,cross_val_score,GridSearchCV\n",
        "from imblearn.over_sampling import SMOTE,SMOTENC\n",
        "from sklearn.metrics import f1_score,recall_score,precision_score,confusion_matrix,roc_curve,roc_auc_score,classification_report,accuracy_score, auc # performance metrics\n",
        "from scipy import stats\n",
        "from sklearn.preprocessing import LabelEncoder\n",
        "from sklearn.preprocessing import MinMaxScaler\n",
        "\n",
        "# Algorithms for supervised learning methods\n",
        "from sklearn.tree import DecisionTreeClassifier\n",
        "from sklearn.ensemble import RandomForestClassifier\n",
        "\n",
        "# Filtering future warnings\n",
        "import warnings\n",
        "warnings.filterwarnings('ignore')"
      ]
    },
    {
      "cell_type": "markdown",
      "metadata": {
        "id": "HOjsElBrP9UQ"
      },
      "source": [
        "#**DATA UNDERSTANDING**\n",
        "\n",
        "---"
      ]
    },
    {
      "cell_type": "code",
      "execution_count": null,
      "metadata": {
        "id": "07IIXgxYP8R6"
      },
      "outputs": [],
      "source": [
        "test = pd.read_csv('/content/drive/MyDrive/Colab Notebooks/Data Test.csv')\n",
        "train = pd.read_csv('/content/drive/MyDrive/Colab Notebooks/Data Train.csv')"
      ]
    },
    {
      "cell_type": "code",
      "execution_count": null,
      "metadata": {
        "id": "pj7LsinJS2De"
      },
      "outputs": [],
      "source": [
        "data = train"
      ]
    },
    {
      "cell_type": "code",
      "execution_count": null,
      "metadata": {
        "colab": {
          "base_uri": "https://localhost:8080/",
          "height": 226
        },
        "id": "95DJQsxoSfxv",
        "outputId": "64971fe9-94bc-4230-f6a2-aaa8c201ff56"
      },
      "outputs": [],
      "source": [
        "data.head()"
      ]
    },
    {
      "cell_type": "code",
      "execution_count": null,
      "metadata": {
        "colab": {
          "base_uri": "https://localhost:8080/"
        },
        "id": "VDMS8asgSlNG",
        "outputId": "5238742b-ca38-40de-861b-07038c522fef"
      },
      "outputs": [],
      "source": [
        "#Shape of the dataframe\n",
        "print(\"The number of rows: {}\".format(data.shape[0]))\n",
        "print(\"The number of columns:{}\".format(data.shape[1]))"
      ]
    },
    {
      "cell_type": "code",
      "execution_count": null,
      "metadata": {
        "colab": {
          "base_uri": "https://localhost:8080/",
          "height": 320
        },
        "id": "zfHpISAsT1ct",
        "outputId": "2f01d44f-e93a-492f-f898-4d2059556fd7"
      },
      "outputs": [],
      "source": [
        "data.describe()"
      ]
    },
    {
      "cell_type": "code",
      "execution_count": null,
      "metadata": {
        "colab": {
          "base_uri": "https://localhost:8080/"
        },
        "id": "QsMJXoslSGDW",
        "outputId": "ce71592d-303f-4738-b1e2-77750644c247"
      },
      "outputs": [],
      "source": [
        "data.info()"
      ]
    },
    {
      "cell_type": "code",
      "execution_count": null,
      "metadata": {
        "colab": {
          "base_uri": "https://localhost:8080/"
        },
        "id": "eVj2CvYhT92A",
        "outputId": "33660a96-32da-4f29-c537-429df8add01b"
      },
      "outputs": [],
      "source": [
        "# Numerical Columns\n",
        "print(f\"Numerical Columns: {data.select_dtypes(include='number').columns}\\n\")\n",
        "# Categorical Columns\n",
        "print(f\"Categorical Columns: {data.select_dtypes(include='object').columns}\")"
      ]
    },
    {
      "cell_type": "code",
      "execution_count": null,
      "metadata": {
        "colab": {
          "base_uri": "https://localhost:8080/"
        },
        "id": "AeIuNj-jtrqf",
        "outputId": "7bb6b9ec-2a96-4186-dc1a-b6ba45c6ca06"
      },
      "outputs": [],
      "source": [
        "data.isnull().sum()"
      ]
    },
    {
      "cell_type": "markdown",
      "metadata": {
        "id": "mWBoWghQUGYq"
      },
      "source": [
        "#**DATA PREPARATION**\n",
        "\n",
        "---"
      ]
    },
    {
      "cell_type": "markdown",
      "metadata": {
        "id": "QKylGknWsmpI"
      },
      "source": [
        "## **DATA CLEANING**"
      ]
    },
    {
      "cell_type": "code",
      "execution_count": null,
      "metadata": {
        "id": "cVx63FWIUN-c"
      },
      "outputs": [],
      "source": [
        "def check_missing_values(df):\n",
        "    \"\"\"\n",
        "    A function to check for missing values in a DataFrame\n",
        "    \"\"\"\n",
        "    missing_values = df.isnull().sum().sort_values(ascending=False)\n",
        "    if missing_values.sum() == 0:\n",
        "        return \"No missing values found.\"\n",
        "    else:\n",
        "        missing_percent = round(missing_values/len(df)*100,2)\n",
        "        missing_values = pd.concat([missing_values, missing_percent], axis=1, keys=['Number of Missing Values', 'Percentage of Missing Values'])\n",
        "        return missing_values\n",
        "\n",
        "def check_duplicates(df):\n",
        "    \"\"\"\n",
        "    Function to check for duplicates in a DataFrame\n",
        "    \"\"\"\n",
        "    duplicates = df.duplicated()\n",
        "    if duplicates.any():\n",
        "        print(\"Duplicates found:{}\", duplicates)\n",
        "    else:\n",
        "        print(\"No duplicates\")"
      ]
    },
    {
      "cell_type": "code",
      "execution_count": null,
      "metadata": {
        "colab": {
          "base_uri": "https://localhost:8080/",
          "height": 35
        },
        "id": "-BCTobn0UTx_",
        "outputId": "7e9703b4-bd42-485b-e979-2363b7d2b87a"
      },
      "outputs": [],
      "source": [
        "check_missing_values(data)"
      ]
    },
    {
      "cell_type": "code",
      "execution_count": null,
      "metadata": {
        "colab": {
          "base_uri": "https://localhost:8080/"
        },
        "id": "U5oDeZo9Ubqt",
        "outputId": "88fb2bb1-e409-4de6-ca65-522ff17285ec"
      },
      "outputs": [],
      "source": [
        "check_duplicates(data)"
      ]
    },
    {
      "cell_type": "markdown",
      "metadata": {
        "id": "Gii0oGBcYutH"
      },
      "source": [
        "##**EXPLORATORY DATA**\n",
        "\n",
        "---"
      ]
    },
    {
      "cell_type": "markdown",
      "metadata": {
        "id": "ffEqP7WyY6jl"
      },
      "source": [
        "**CHURN FEATURE**"
      ]
    },
    {
      "cell_type": "code",
      "execution_count": null,
      "metadata": {
        "id": "-hMEkhkTY6Ct"
      },
      "outputs": [],
      "source": [
        "def figs(ds) :\n",
        "  #plotting the target variable distribution\n",
        "  class_counts = data[ds].value_counts()\n",
        "\n",
        "  # Create a bar chart of the value counts using Plotly\n",
        "  fig = go.Figure(\n",
        "      data=[go.Bar(x=class_counts.index, y=class_counts.values)],\n",
        "      layout=go.Layout(title=ds.title().replace('_',' ')+' Distributon',\n",
        "            hovermode = 'closest',width=600)\n",
        "  )\n",
        "\n",
        "  # Show the chart\n",
        "  fig.show()"
      ]
    },
    {
      "cell_type": "code",
      "execution_count": null,
      "metadata": {
        "colab": {
          "base_uri": "https://localhost:8080/",
          "height": 542
        },
        "id": "W9c0STsBeRGM",
        "outputId": "cba845a2-467e-472e-d048-56ae155ac88a"
      },
      "outputs": [],
      "source": [
        "figs('churn')"
      ]
    },
    {
      "cell_type": "markdown",
      "metadata": {
        "id": "4HPVcZY6e_5H"
      },
      "source": [
        "**AREA CODE FEATURE**"
      ]
    },
    {
      "cell_type": "code",
      "execution_count": null,
      "metadata": {
        "colab": {
          "base_uri": "https://localhost:8080/",
          "height": 542
        },
        "id": "eCJKI7P7av46",
        "outputId": "edc860f0-e631-4b72-d9cd-f44446b17547"
      },
      "outputs": [],
      "source": [
        "# Pie chart of area code feature\n",
        "area = data['area_code'].value_counts()\n",
        "transanction = area.index\n",
        "quantity = area.values\n",
        "\n",
        "# plot pie circle with plotly\n",
        "figure = px.pie(data,\n",
        "               values = quantity,\n",
        "               names = transanction,\n",
        "               hole = .5,\n",
        "               title = 'Distribution of Area Code Feature')\n",
        "figure.show()"
      ]
    },
    {
      "cell_type": "markdown",
      "metadata": {
        "id": "IdxZ9mema8zB"
      },
      "source": [
        "**NUMERICAL FEATURE**"
      ]
    },
    {
      "cell_type": "code",
      "execution_count": null,
      "metadata": {
        "colab": {
          "base_uri": "https://localhost:8080/",
          "height": 800
        },
        "id": "hUIqih0Va5we",
        "outputId": "1da6a997-fe69-4637-acf5-7904d8c843b1"
      },
      "outputs": [],
      "source": [
        "#checking for distribution of the numeric features\n",
        "numeric_features = ['account_length', 'number_vmail_messages', 'total_day_minutes',\n",
        "       'total_day_calls', 'total_day_charge', 'total_eve_minutes',\n",
        "       'total_eve_calls', 'total_eve_charge', 'total_night_minutes',\n",
        "       'total_night_calls', 'total_night_charge', 'total_intl_minutes',\n",
        "       'total_intl_calls', 'total_intl_charge',\n",
        "       'number_customer_service_calls']\n",
        "\n",
        "# Calculate the number of rows and columns for subplots\n",
        "nrows = (len(numeric_features) - 1) // 3 + 1\n",
        "ncols = min(3, len(numeric_features))\n",
        "\n",
        "# Create subplots\n",
        "fig, axes = plt.subplots(nrows=nrows, ncols=ncols, figsize=(12, 10))\n",
        "\n",
        "# Flatten axes if necessary\n",
        "axes = axes.flatten() if nrows > 1 else [axes]\n",
        "\n",
        "# Plot numeric features\n",
        "for i, feature in enumerate(numeric_features):\n",
        "    ax = axes[i]\n",
        "    sns.histplot(data[feature], kde=True, ax=ax)\n",
        "    ax.set_xlabel(feature)\n",
        "    ax.set_ylabel(\"Count\")\n",
        "\n",
        "# Remove empty subplots\n",
        "if len(numeric_features) < nrows * ncols:\n",
        "    for i in range(len(numeric_features), nrows * ncols):\n",
        "        fig.delaxes(axes[i])\n",
        "\n",
        "# Adjust subplot spacing\n",
        "fig.tight_layout()\n",
        "\n",
        "# Display the plot\n",
        "plt.show()"
      ]
    },
    {
      "cell_type": "code",
      "execution_count": null,
      "metadata": {
        "colab": {
          "base_uri": "https://localhost:8080/",
          "height": 542
        },
        "id": "fUZ5xULWbav_",
        "outputId": "3300ec5f-70d1-43dd-b18f-da17cab528f4"
      },
      "outputs": [],
      "source": [
        "figs('state')"
      ]
    },
    {
      "cell_type": "markdown",
      "metadata": {
        "id": "VUvBCjZifRsH"
      },
      "source": [
        "**CATEGORICAL FEATURE**"
      ]
    },
    {
      "cell_type": "code",
      "execution_count": null,
      "metadata": {
        "colab": {
          "base_uri": "https://localhost:8080/",
          "height": 542
        },
        "id": "eSHKDEDwbjsX",
        "outputId": "a47e57be-0f29-4124-89cb-9a4abc40241f"
      },
      "outputs": [],
      "source": [
        "figs('international_plan')"
      ]
    },
    {
      "cell_type": "code",
      "execution_count": null,
      "metadata": {
        "colab": {
          "base_uri": "https://localhost:8080/",
          "height": 542
        },
        "id": "RkcyGvjBbqV-",
        "outputId": "3d0a83aa-2d93-4ce7-bb5d-5430c82ef41f"
      },
      "outputs": [],
      "source": [
        "figs('voice_mail_plan')"
      ]
    },
    {
      "cell_type": "markdown",
      "metadata": {
        "id": "RXEarl1rhLyG"
      },
      "source": [
        "**BOX PLOT**"
      ]
    },
    {
      "cell_type": "code",
      "execution_count": null,
      "metadata": {
        "colab": {
          "base_uri": "https://localhost:8080/",
          "height": 386
        },
        "id": "_iBmgXCghHoT",
        "outputId": "068dfbdb-08f0-4546-8892-94c4e4074d8c"
      },
      "outputs": [],
      "source": [
        "# Boxplot to see which area code has the highest churn\n",
        "plt.figure(figsize=(14,5))\n",
        "sns.boxplot(data=data,x='churn',y='number_customer_service_calls',hue='area_code');\n",
        "plt.legend(loc='upper right');"
      ]
    },
    {
      "cell_type": "code",
      "execution_count": null,
      "metadata": {
        "id": "3SUftb6Thfgv"
      },
      "outputs": [],
      "source": [
        "#Checking the distribution of categorical features based on churn rate\n",
        "def plot_categorical_distribution(data, feature):\n",
        "    \"\"\"\n",
        "    Plots the distribution of a categorical feature in the given data.\n",
        "    \"\"\"\n",
        "    plt.figure(figsize=(10, 4))\n",
        "    churn_counts = data.groupby(feature)[\"churn\"].sum().sort_values(ascending=False)\n",
        "    top_10_categories = churn_counts.head(10).index.tolist()\n",
        "    sns.countplot(x=feature, hue=\"churn\", data=data, order=top_10_categories)\n",
        "    plt.xticks(rotation=90)\n",
        "    plt.legend(loc=\"upper right\")\n",
        "    plt.show()"
      ]
    },
    {
      "cell_type": "code",
      "execution_count": null,
      "metadata": {
        "colab": {
          "base_uri": "https://localhost:8080/",
          "height": 397
        },
        "id": "ZGvJ-HwdhlPX",
        "outputId": "08b6ae2f-d682-4a08-c68f-33494179a2a5"
      },
      "outputs": [],
      "source": [
        "plot_categorical_distribution(data, 'state')"
      ]
    },
    {
      "cell_type": "code",
      "execution_count": null,
      "metadata": {
        "colab": {
          "base_uri": "https://localhost:8080/",
          "height": 398
        },
        "id": "-wshPOTChzSk",
        "outputId": "3ff56744-9ff9-4c9f-ab35-1e5f2141f5ef"
      },
      "outputs": [],
      "source": [
        "plot_categorical_distribution(data, 'international_plan')"
      ]
    },
    {
      "cell_type": "code",
      "execution_count": null,
      "metadata": {
        "colab": {
          "base_uri": "https://localhost:8080/",
          "height": 398
        },
        "id": "wHfk1iJyh8xr",
        "outputId": "75533efe-495a-471b-9dd4-c86ddf62b3ea"
      },
      "outputs": [],
      "source": [
        "plot_categorical_distribution(data, 'voice_mail_plan')"
      ]
    },
    {
      "cell_type": "code",
      "execution_count": null,
      "metadata": {
        "id": "PgMQJJDiiBZC"
      },
      "outputs": [],
      "source": [
        "def plot_churn_kde(data, x_column, charge_type):\n",
        "    \"\"\"\n",
        "    A function to plot features based on churn rate\n",
        "    \"\"\"\n",
        "    plt.figure(figsize=(8, 4))\n",
        "    sns.kdeplot(data=data, x=x_column, hue='churn', fill=True)\n",
        "    plt.xlabel(f'Total {charge_type} Charge')\n",
        "    plt.ylabel('Density')\n",
        "    plt.title(f'Churn Distribution by {charge_type} Charges')\n",
        "    plt.show()"
      ]
    },
    {
      "cell_type": "code",
      "execution_count": null,
      "metadata": {
        "colab": {
          "base_uri": "https://localhost:8080/",
          "height": 410
        },
        "id": "gvicKP5hiJDH",
        "outputId": "027acee1-2868-4ff6-bcb1-667ffd8e1b6d"
      },
      "outputs": [],
      "source": [
        "# Churn by day charges\n",
        "plot_churn_kde(data, 'total_day_charge', 'Day')"
      ]
    },
    {
      "cell_type": "code",
      "execution_count": null,
      "metadata": {
        "colab": {
          "base_uri": "https://localhost:8080/",
          "height": 410
        },
        "id": "Y7KikyGRiRKZ",
        "outputId": "07115e91-9aa6-465f-e80b-dc387fb173aa"
      },
      "outputs": [],
      "source": [
        "# Churn by evening charges\n",
        "plot_churn_kde(data, 'total_eve_charge', 'Evening')"
      ]
    },
    {
      "cell_type": "code",
      "execution_count": null,
      "metadata": {
        "colab": {
          "base_uri": "https://localhost:8080/",
          "height": 410
        },
        "id": "7MFBcwy2iV9g",
        "outputId": "90f87048-e622-4b5d-ffb1-674fc5dc2e8c"
      },
      "outputs": [],
      "source": [
        "# Churn by night charges\n",
        "plot_churn_kde(data, 'total_eve_charge', 'Night')"
      ]
    },
    {
      "cell_type": "code",
      "execution_count": null,
      "metadata": {
        "colab": {
          "base_uri": "https://localhost:8080/",
          "height": 410
        },
        "id": "Jg16bpwGic0f",
        "outputId": "51c5fc32-d644-4066-ff6a-c18d38b7db9b"
      },
      "outputs": [],
      "source": [
        "plot_churn_kde(data, 'total_intl_charge', 'International')"
      ]
    },
    {
      "cell_type": "markdown",
      "metadata": {
        "id": "fpDZ6bEWik8_"
      },
      "source": [
        "### **OUTLIER**"
      ]
    },
    {
      "cell_type": "code",
      "execution_count": null,
      "metadata": {
        "colab": {
          "base_uri": "https://localhost:8080/"
        },
        "id": "DFhxqUUEihzp",
        "outputId": "4634f420-d4c6-4a09-bc26-b23c606ddaf5"
      },
      "outputs": [],
      "source": [
        "def drop_numerical_outliers(df, z_thresh=3):\n",
        "    constrains = df.select_dtypes(include=[np.number]).apply(lambda x: np.abs(stats.zscore(x)) < z_thresh).all(axis=1)\n",
        "    df.drop(df.index[~constrains], inplace=True)\n",
        "\n",
        "drop_numerical_outliers(data)\n",
        "print(data.shape)"
      ]
    },
    {
      "cell_type": "markdown",
      "metadata": {
        "id": "cj_ThLYRiyGX"
      },
      "source": [
        "### **FEATURE CORELATION**"
      ]
    },
    {
      "cell_type": "code",
      "execution_count": null,
      "metadata": {
        "id": "-4w9BCgHiuix"
      },
      "outputs": [],
      "source": [
        "# Finding correlation between features using a heatmap\n",
        "def corrmatrix(df):\n",
        "    ''' This function plots a correlation matrix for a given dataframe '''\n",
        "    plt.figure(figsize=(14,14))\n",
        "\n",
        "    corr = df.corr()\n",
        "\n",
        "    # Generate a mask to only show the bottom triangle\n",
        "    corr_tri = corr.where(np.tril(np.ones(corr.shape)).astype(np.bool_))\n",
        "\n",
        "    sns.heatmap(data = corr_tri, center = 0, cmap = \"YlGnBu\", annot = True, fmt='.1g',vmin=-1);\n",
        "    plt.title('Correlation of Features')\n",
        "    plt.show()"
      ]
    },
    {
      "cell_type": "code",
      "execution_count": null,
      "metadata": {
        "colab": {
          "base_uri": "https://localhost:8080/",
          "height": 1000
        },
        "id": "5FqLF03Vi4hX",
        "outputId": "488a6985-dc75-4b3b-d964-45ba3f503145"
      },
      "outputs": [],
      "source": [
        "corrmatrix(data)"
      ]
    },
    {
      "cell_type": "markdown",
      "metadata": {
        "id": "5nVWpwl8upON"
      },
      "source": [
        "### MULTICOLLINEARITY CHECK"
      ]
    },
    {
      "cell_type": "code",
      "execution_count": null,
      "metadata": {
        "colab": {
          "base_uri": "https://localhost:8080/",
          "height": 444
        },
        "id": "zdCohGPIjjw4",
        "outputId": "35ddc1b8-a964-41b6-e4d8-3b1b98f0ca32"
      },
      "outputs": [],
      "source": [
        "# Calculate the correlation matrix and take the absolute value\n",
        "corr_matrix = data.corr().abs()\n",
        "\n",
        "# Create a True/False mask and apply it\n",
        "mask = np.triu(np.ones_like(corr_matrix, dtype=bool))\n",
        "tri_df = corr_matrix.mask(mask)\n",
        "\n",
        "# List column names of highly correlated features (r > 0.90)\n",
        "to_drop = [c for c in tri_df.columns if any(tri_df[c] >  0.90)]\n",
        "\n",
        "data = data.drop(to_drop, axis=1) # Drop the features\n",
        "data"
      ]
    },
    {
      "cell_type": "markdown",
      "metadata": {
        "id": "v1r3ga5qvYvo"
      },
      "source": [
        "## FEATURE ENGGINERING"
      ]
    },
    {
      "cell_type": "markdown",
      "metadata": {
        "id": "16Iuu7qgvpGT"
      },
      "source": [
        "\n",
        "\n",
        "> LABEL ENCODING\n",
        "\n"
      ]
    },
    {
      "cell_type": "code",
      "execution_count": null,
      "metadata": {
        "id": "tY4bIThSjpSH"
      },
      "outputs": [],
      "source": [
        "# Convert columns with 'yes' or 'no' to binary using LabelEncoder\n",
        "label_encoder = LabelEncoder()\n",
        "data['churn'] = label_encoder.fit_transform(data['churn'])"
      ]
    },
    {
      "cell_type": "markdown",
      "metadata": {
        "id": "f_XbUX-IvwTe"
      },
      "source": [
        "\n",
        "\n",
        "> ONE HOT ENCODING\n",
        "\n"
      ]
    },
    {
      "cell_type": "code",
      "execution_count": null,
      "metadata": {
        "colab": {
          "base_uri": "https://localhost:8080/",
          "height": 256
        },
        "id": "vJNX30ZvjroG",
        "outputId": "126c2de1-5859-4b0d-ee9a-44189e468e06"
      },
      "outputs": [],
      "source": [
        "data = pd.get_dummies(data,columns = ['state', 'area_code','international_plan','voice_mail_plan'])\n",
        "data.head()"
      ]
    },
    {
      "cell_type": "markdown",
      "metadata": {
        "id": "YR56PcaVwCbk"
      },
      "source": [
        "> SCALING DATA\n",
        "\n"
      ]
    },
    {
      "cell_type": "code",
      "execution_count": null,
      "metadata": {
        "colab": {
          "base_uri": "https://localhost:8080/",
          "height": 256
        },
        "id": "0Fo4k1AbjyLR",
        "outputId": "8d2ec705-dfe4-4f69-904a-460ce956d8ff"
      },
      "outputs": [],
      "source": [
        "scaler = MinMaxScaler()\n",
        "\n",
        "def scaling(columns):\n",
        "    return scaler.fit_transform(data[columns].values.reshape(-1,1))\n",
        "\n",
        "for i in data.select_dtypes(include=[np.number]).columns:\n",
        "    data[i] = scaling(i)\n",
        "data.head()"
      ]
    },
    {
      "cell_type": "markdown",
      "metadata": {
        "id": "ee_T3eq6wRm8"
      },
      "source": [
        "# **MODELING**"
      ]
    },
    {
      "cell_type": "code",
      "execution_count": null,
      "metadata": {
        "id": "wxcwOdO_j103"
      },
      "outputs": [],
      "source": [
        "#Defining X and y\n",
        "X = data.drop(\"churn\", axis=1)\n",
        "y = data[\"churn\"]"
      ]
    },
    {
      "cell_type": "code",
      "execution_count": null,
      "metadata": {
        "id": "bxG5zw0nj4dg"
      },
      "outputs": [],
      "source": [
        "#splitting the data in to train and test sets\n",
        "X_train,X_test,y_train,y_test = train_test_split(X,y, test_size=0.25, random_state=123)"
      ]
    },
    {
      "cell_type": "code",
      "execution_count": null,
      "metadata": {
        "id": "OFOKLPOdj7VZ"
      },
      "outputs": [],
      "source": [
        "#instantiate SMOTENC\n",
        "from imblearn.over_sampling import SMOTE, SMOTENC\n",
        "\n",
        "smote = SMOTENC(categorical_features = [1,2],random_state = 123)\n",
        "resampled_X_train, resampled_y_train = smote.fit_resample(X_train,y_train)"
      ]
    },
    {
      "cell_type": "code",
      "execution_count": null,
      "metadata": {
        "id": "wdYCMf_fEwLN"
      },
      "outputs": [],
      "source": [
        "def plot_confusion_matrix(y_true, y_pred, classes):\n",
        "    \"\"\"\n",
        "    Plots a confusion matrix.\n",
        "    \"\"\"\n",
        "    cm = confusion_matrix(y_true, y_pred)\n",
        "    plt.figure()\n",
        "    sns.heatmap(cm, annot=True, fmt='d', cmap='Blues', xticklabels=classes, yticklabels=classes)\n",
        "    plt.xlabel('Predicted label')\n",
        "    plt.ylabel('True label')\n",
        "    plt.show()"
      ]
    },
    {
      "cell_type": "markdown",
      "metadata": {
        "id": "4D_kFMtIxH84"
      },
      "source": [
        "## **DECISION TREE CLASSIFIER**"
      ]
    },
    {
      "cell_type": "code",
      "execution_count": null,
      "metadata": {
        "id": "P5fABC2fkO9I"
      },
      "outputs": [],
      "source": [
        "#Instantiate DecisionTreeClassifier\n",
        "dt_clf = DecisionTreeClassifier(random_state=123)\n",
        "\n",
        "#Fit on the training data\n",
        "dt_clf.fit(resampled_X_train,resampled_y_train)\n",
        "\n",
        "#predict on the test set\n",
        "y_pred_dt = dt_clf.predict(X_test)"
      ]
    },
    {
      "cell_type": "code",
      "execution_count": null,
      "metadata": {
        "colab": {
          "base_uri": "https://localhost:8080/",
          "height": 449
        },
        "id": "78VNwVg-kSoA",
        "outputId": "08311ccf-e28e-413b-da38-b82fc9b7a2d2"
      },
      "outputs": [],
      "source": [
        "plot_confusion_matrix(y_test, y_pred_dt, [0,1])"
      ]
    },
    {
      "cell_type": "code",
      "execution_count": null,
      "metadata": {
        "colab": {
          "base_uri": "https://localhost:8080/"
        },
        "id": "jBNhXhLJkVT_",
        "outputId": "6784af50-ce28-40ac-b92d-245cbf9eb163"
      },
      "outputs": [],
      "source": [
        "print(classification_report(y_test,y_pred_dt))"
      ]
    },
    {
      "cell_type": "code",
      "execution_count": null,
      "metadata": {
        "colab": {
          "base_uri": "https://localhost:8080/",
          "height": 564
        },
        "id": "22mJ8j-GkYE-",
        "outputId": "27924bb0-d236-4c25-d858-e9e1160dfd6e"
      },
      "outputs": [],
      "source": [
        "# Feature Importances\n",
        "feature_names = list(resampled_X_train.columns)\n",
        "importances = dt_clf.feature_importances_[0:10]\n",
        "indices = np.argsort(importances)\n",
        "\n",
        "plt.figure(figsize=(8,6))\n",
        "plt.title('Feature Importances')\n",
        "plt.barh(range(len(indices)), importances[indices], align='center')\n",
        "plt.yticks(range(len(indices)), [feature_names[i] for i in indices])\n",
        "plt.xlabel('Relative Importance')\n",
        "plt.show()"
      ]
    },
    {
      "cell_type": "markdown",
      "metadata": {
        "id": "ZijLoHVRxUNm"
      },
      "source": [
        "## **RANDOM FOREST CLASIFIER**"
      ]
    },
    {
      "cell_type": "code",
      "execution_count": null,
      "metadata": {
        "colab": {
          "base_uri": "https://localhost:8080/",
          "height": 75
        },
        "id": "Hf_0nLZVkbTw",
        "outputId": "1859cdc2-d5fd-4fc8-d134-ffdc562f05a0"
      },
      "outputs": [],
      "source": [
        "#Instantiate the classifier\n",
        "rf_clf= RandomForestClassifier(random_state=123)\n",
        "\n",
        "#Fit on the training data\n",
        "rf_clf.fit(resampled_X_train,resampled_y_train)"
      ]
    },
    {
      "cell_type": "code",
      "execution_count": null,
      "metadata": {
        "id": "QkL5y982keq2"
      },
      "outputs": [],
      "source": [
        "#predict on the test data\n",
        "y_pred_rf = rf_clf.predict(X_test)"
      ]
    },
    {
      "cell_type": "code",
      "execution_count": null,
      "metadata": {
        "colab": {
          "base_uri": "https://localhost:8080/",
          "height": 449
        },
        "id": "IB61w34hkg7X",
        "outputId": "3a8a941a-459b-4b51-efa2-7db8c6c80995"
      },
      "outputs": [],
      "source": [
        "plot_confusion_matrix(y_test, y_pred_rf, [0,1])"
      ]
    },
    {
      "cell_type": "code",
      "execution_count": null,
      "metadata": {
        "colab": {
          "base_uri": "https://localhost:8080/"
        },
        "id": "RSQcM614kjxf",
        "outputId": "5ea027a3-031a-41b3-ee7f-a44fff7340ef"
      },
      "outputs": [],
      "source": [
        "print(classification_report(y_test,y_pred_rf))"
      ]
    },
    {
      "cell_type": "code",
      "execution_count": null,
      "metadata": {
        "colab": {
          "base_uri": "https://localhost:8080/",
          "height": 564
        },
        "id": "MGKXbLV0knTy",
        "outputId": "b1d92d41-6fcb-4dbb-9250-62e6db88de9a"
      },
      "outputs": [],
      "source": [
        "feature_names = list(resampled_X_train.columns)\n",
        "importances = rf_clf.feature_importances_[0:10]\n",
        "indices = np.argsort(importances)\n",
        "\n",
        "plt.figure(figsize=(8,6))\n",
        "plt.title('Feature Importances')\n",
        "plt.barh(range(len(indices)), importances[indices], align='center')\n",
        "plt.yticks(range(len(indices)), [feature_names[i] for i in indices])\n",
        "plt.xlabel('Relative Importance')\n",
        "plt.show()"
      ]
    },
    {
      "cell_type": "markdown",
      "metadata": {
        "id": "o5Ia_VWrxn28"
      },
      "source": [
        "# **MODEL EVALUATION**"
      ]
    },
    {
      "cell_type": "markdown",
      "metadata": {
        "id": "QEuRVBS2zxRW"
      },
      "source": [
        "\n",
        "\n",
        "> MODEL COMPARISON - RECALL SCORE\n",
        "\n"
      ]
    },
    {
      "cell_type": "code",
      "execution_count": null,
      "metadata": {
        "colab": {
          "base_uri": "https://localhost:8080/",
          "height": 143
        },
        "id": "G4a9EH6rlBIP",
        "outputId": "aa1774a9-ad5b-48fa-ca21-0c33063f52c8"
      },
      "outputs": [],
      "source": [
        "np.random.seed(123)\n",
        "\n",
        "classifiers = [RandomForestClassifier(),\n",
        "               DecisionTreeClassifier()]\n",
        "\n",
        "# Define a result table as a DataFrame\n",
        "result_table = pd.DataFrame(columns=['classifiers', 'recall'])\n",
        "\n",
        "# Train the models and record the results\n",
        "for cls in classifiers:\n",
        "    model = cls.fit(resampled_X_train, resampled_y_train)\n",
        "    y_pred = model.predict(X_test)\n",
        "\n",
        "    recall = recall_score(y_test, y_pred)\n",
        "\n",
        "    result_table = result_table.append({'classifiers': cls.__class__.__name__,\n",
        "                                        'recall': recall}, ignore_index=True)\n",
        "\n",
        "# Set name of the classifiers as index labels\n",
        "result_table.set_index('classifiers', inplace=True)\n",
        "\n",
        "result_table"
      ]
    },
    {
      "cell_type": "markdown",
      "metadata": {
        "id": "u3GxZGaiz6rQ"
      },
      "source": [
        "\n",
        "\n",
        "> MODEL COMPARISON - ROC CURVE\n",
        "\n"
      ]
    },
    {
      "cell_type": "code",
      "execution_count": null,
      "metadata": {
        "colab": {
          "base_uri": "https://localhost:8080/",
          "height": 572
        },
        "id": "ssDbV1qOlEEf",
        "outputId": "81525c97-0273-4684-fd0e-420847b8fc51"
      },
      "outputs": [],
      "source": [
        "np.random.seed(123)\n",
        "classifiers = [RandomForestClassifier(),\n",
        "               DecisionTreeClassifier()]\n",
        "\n",
        "\n",
        "# Define a result table as a DataFrame\n",
        "result_table = pd.DataFrame(columns=['classifiers', 'fpr','tpr','auc'])\n",
        "\n",
        "# Train the models and record the results\n",
        "for cls in classifiers:\n",
        "    model = cls.fit(resampled_X_train, resampled_y_train)\n",
        "    yproba = model.predict_proba(X_test)[::,1]\n",
        "\n",
        "    fpr, tpr, _ = roc_curve(y_test,  yproba)\n",
        "    auc = roc_auc_score(y_test, yproba)\n",
        "\n",
        "    result_table = result_table.append({'classifiers':cls.__class__.__name__,\n",
        "                                        'fpr':fpr,\n",
        "                                        'tpr':tpr,\n",
        "                                        'auc':auc}, ignore_index=True)\n",
        "\n",
        "# Set name of the classifiers as index labels\n",
        "result_table.set_index('classifiers', inplace=True)\n",
        "\n",
        "fig = plt.figure(figsize=(8,6))\n",
        "\n",
        "for i in result_table.index:\n",
        "    plt.plot(result_table.loc[i]['fpr'],\n",
        "             result_table.loc[i]['tpr'],\n",
        "             label=\"{}, AUC={:.3f}\".format(i, result_table.loc[i]['auc']))\n",
        "\n",
        "plt.plot([0,1], [0,1], color='orange', linestyle='--')\n",
        "\n",
        "plt.xticks(np.arange(0.0, 1.1, step=0.1))\n",
        "plt.xlabel(\"False Positive Rate\", fontsize=15)\n",
        "\n",
        "plt.yticks(np.arange(0.0, 1.1, step=0.1))\n",
        "plt.ylabel(\"True Positive Rate\", fontsize=15)\n",
        "\n",
        "plt.title('ROC Curve Analysis', fontsize=15)\n",
        "plt.legend(prop={'size':13}, loc='lower right')\n",
        "\n",
        "plt.show()"
      ]
    },
    {
      "cell_type": "markdown",
      "metadata": {
        "id": "Zvvih8VK0HWt"
      },
      "source": [
        "## MODEL TUNING"
      ]
    },
    {
      "cell_type": "markdown",
      "metadata": {
        "id": "uuQCJhEn0LqC"
      },
      "source": [
        "\n",
        "\n",
        "> TUNING RANDOM FOREST\n",
        "\n"
      ]
    },
    {
      "cell_type": "code",
      "execution_count": null,
      "metadata": {
        "colab": {
          "base_uri": "https://localhost:8080/"
        },
        "id": "rA3kEZdGGTDk",
        "outputId": "a32a25f2-4d93-4bb0-8f44-ac647d9d9903"
      },
      "outputs": [],
      "source": [
        "# Tune Random Forest\n",
        "param_grid_rf = {\n",
        "    'n_estimators': [100, 200, 300],\n",
        "    'max_depth': [None, 5, 10, 20],\n",
        "    'min_samples_split': [2, 5, 10],\n",
        "    'min_samples_leaf': [1, 2, 4]\n",
        "}\n",
        "\n",
        "rf = RandomForestClassifier(random_state=42)\n",
        "grid_search_rf = GridSearchCV(estimator=rf, param_grid=param_grid_rf, cv=5)\n",
        "grid_search_rf.fit(X_train, y_train)\n",
        "\n",
        "print(\"Best Parameters for Random Forest:\", grid_search_rf.best_params_)"
      ]
    },
    {
      "cell_type": "code",
      "execution_count": null,
      "metadata": {
        "colab": {
          "base_uri": "https://localhost:8080/",
          "height": 75
        },
        "id": "-tiUEZUYGhg1",
        "outputId": "c766e396-a535-486d-afed-3a71e52fd98d"
      },
      "outputs": [],
      "source": [
        "# Train RF\n",
        "best_rf = grid_search_rf.best_estimator_\n",
        "best_rf.fit(X_train, y_train)"
      ]
    },
    {
      "cell_type": "markdown",
      "metadata": {
        "id": "FdM8G6zX1FbH"
      },
      "source": [
        "\n",
        "\n",
        "> TUNING DECISIONTREE CLASSIFIER\n",
        "\n"
      ]
    },
    {
      "cell_type": "code",
      "execution_count": null,
      "metadata": {
        "colab": {
          "base_uri": "https://localhost:8080/"
        },
        "id": "MiWykmG9GmRQ",
        "outputId": "d6d7853a-b4ab-461d-8186-bc15c57c8f16"
      },
      "outputs": [],
      "source": [
        "# Tune Decisiontree\n",
        "param_grid_dt = {\n",
        "    'max_depth': [None, 5, 10, 20],\n",
        "    'min_samples_split': [2, 5, 10],\n",
        "    'min_samples_leaf': [1, 2, 4]\n",
        "}\n",
        "\n",
        "dt = DecisionTreeClassifier(random_state=42)\n",
        "grid_search_dt = GridSearchCV(estimator=dt, param_grid=param_grid_dt, cv=5)\n",
        "grid_search_dt.fit(X_train, y_train)\n",
        "\n",
        "print(\"Best Parameters for Decision Tree:\", grid_search_dt.best_params_)"
      ]
    },
    {
      "cell_type": "code",
      "execution_count": null,
      "metadata": {
        "colab": {
          "base_uri": "https://localhost:8080/",
          "height": 92
        },
        "id": "1t_Tp7ZPGte5",
        "outputId": "ab5f0979-642a-401d-9bf8-4356c451c6c7"
      },
      "outputs": [],
      "source": [
        "# Train Decisiontree\n",
        "best_dt = grid_search_dt.best_estimator_\n",
        "best_dt.fit(X_train, y_train)"
      ]
    },
    {
      "cell_type": "markdown",
      "metadata": {
        "id": "P_cjfewjG1qc"
      },
      "source": [
        "## MODEL ACCURACY AND ROC"
      ]
    },
    {
      "cell_type": "code",
      "execution_count": null,
      "metadata": {
        "colab": {
          "base_uri": "https://localhost:8080/"
        },
        "id": "avGUJv7OG09-",
        "outputId": "b8563081-24e9-43cc-bb39-1c5bc854b0f5"
      },
      "outputs": [],
      "source": [
        "# Predictions\n",
        "y_pred_rf = best_rf.predict(X_test)\n",
        "y_pred_dt = best_dt.predict(X_test)\n",
        "\n",
        "# Accuracy\n",
        "accuracy_rf = accuracy_score(y_test, y_pred_rf)\n",
        "accuracy_dt = accuracy_score(y_test, y_pred_dt)\n",
        "\n",
        "print(\"Accuracy of Random Forest:\", accuracy_rf)\n",
        "print(\"Accuracy of Decision Tree:\", accuracy_dt)\n"
      ]
    },
    {
      "cell_type": "code",
      "execution_count": null,
      "metadata": {
        "colab": {
          "base_uri": "https://localhost:8080/"
        },
        "id": "NnTuk8nhJSMY",
        "outputId": "562ee30d-0fca-44a0-8018-98dfc79afd1c"
      },
      "outputs": [],
      "source": [
        "# Klasifikasi Report\n",
        "print(\"Classification Report for Random Forest:\")\n",
        "print(classification_report(y_test, y_pred_rf))\n",
        "\n",
        "print(\"Classification Report for Decision Tree:\")\n",
        "print(classification_report(y_test, y_pred_dt))"
      ]
    },
    {
      "cell_type": "code",
      "execution_count": null,
      "metadata": {
        "colab": {
          "base_uri": "https://localhost:8080/",
          "height": 472
        },
        "id": "xJZaCwwLHEyl",
        "outputId": "27c65f34-db3b-49d0-aab8-967928fe3b5a"
      },
      "outputs": [],
      "source": [
        "# Random Forest\n",
        "y_prob_rf = best_rf.predict_proba(X_test)[:, 1]\n",
        "fpr_rf, tpr_rf, _ = roc_curve(y_test, y_prob_rf)\n",
        "roc_auc_rf = auc(fpr_rf, tpr_rf)\n",
        "\n",
        "# Decision Tree\n",
        "y_prob_dt = best_dt.predict_proba(X_test)[:, 1]\n",
        "fpr_dt, tpr_dt, _ = roc_curve(y_test, y_prob_dt)\n",
        "roc_auc_dt = auc(fpr_dt, tpr_dt)\n",
        "\n",
        "# Plot ROC Curve\n",
        "plt.figure()\n",
        "plt.plot(fpr_rf, tpr_rf, color='darkorange', lw=2, label='Random Forest (AUC = %0.2f)' % roc_auc_rf)\n",
        "plt.plot(fpr_dt, tpr_dt, color='blue', lw=2, label='Decision Tree (AUC = %0.2f)' % roc_auc_dt)\n",
        "plt.plot([0, 1], [0, 1], color='navy', lw=2, linestyle='--')\n",
        "plt.xlim([0.0, 1.0])\n",
        "plt.ylim([0.0, 1.05])\n",
        "plt.xlabel('False Positive Rate')\n",
        "plt.ylabel('True Positive Rate')\n",
        "plt.title('Receiver Operating Characteristic')\n",
        "plt.legend(loc=\"lower right\")\n",
        "plt.show()"
      ]
    },
    {
      "cell_type": "code",
      "execution_count": null,
      "metadata": {
        "colab": {
          "base_uri": "https://localhost:8080/",
          "height": 564
        },
        "id": "HTAKYPQvJ-aW",
        "outputId": "2144b1b0-b2dd-4441-f7be-25cd9cf7e86c"
      },
      "outputs": [],
      "source": [
        "# Decision Tree Feature Importance Visualization\n",
        "feature_names_dt = list(X_train.columns)\n",
        "importances_dt = best_dt.feature_importances_\n",
        "indices_dt = np.argsort(importances_dt)[-10:]  # Top 10 features\n",
        "\n",
        "plt.figure(figsize=(8, 6))\n",
        "plt.title('Decision Tree Feature Importances')\n",
        "plt.barh(range(len(indices_dt)), importances_dt[indices_dt], align='center')\n",
        "plt.yticks(range(len(indices_dt)), [feature_names_dt[i] for i in indices_dt])\n",
        "plt.xlabel('Relative Importance')\n",
        "plt.show()\n"
      ]
    },
    {
      "cell_type": "code",
      "execution_count": null,
      "metadata": {
        "colab": {
          "base_uri": "https://localhost:8080/",
          "height": 564
        },
        "id": "WwPhzj2gKCUL",
        "outputId": "ecc2858b-42d8-496b-e18a-191790921bfc"
      },
      "outputs": [],
      "source": [
        "# Random Forest Feature Importance Visualization\n",
        "feature_names_rf = list(X_train.columns)\n",
        "importances_rf = best_rf.feature_importances_\n",
        "indices_rf = np.argsort(importances_rf)[-10:]  # Top 10 features\n",
        "\n",
        "plt.figure(figsize=(8, 6))\n",
        "plt.title('Random Forest Feature Importances')\n",
        "plt.barh(range(len(indices_rf)), importances_rf[indices_rf], align='center')\n",
        "plt.yticks(range(len(indices_rf)), [feature_names_rf[i] for i in indices_rf])\n",
        "plt.xlabel('Relative Importance')\n",
        "plt.show()\n"
      ]
    },
    {
      "cell_type": "markdown",
      "metadata": {
        "id": "7_oCetx27dhT"
      },
      "source": [
        "# CONCLUSION\n",
        "Skor penarikan kembali pengklasifikasi adalah 73%. Meskipun model ini masih merupakan model prediktif yang baik.\n",
        "\n",
        "## Recomendations\n",
        "\n",
        "* Tawarkan diskon atau penawaran promosi kepada pelanggan di kode area 415 dan 510, karena area ini memiliki tingkat churn yang lebih tinggi. Hal ini dapat membantu memberi insentif kepada pelanggan untuk tetap bersama perusahaan.\n",
        "\n",
        "* Meningkatkan kualitas layanan pelanggan dan mengurangi jumlah panggilan layanan pelanggan. Meningkatkan program pelatihan bagi perwakilan layanan pelanggan untuk memastikan penyelesaian masalah pelanggan dengan cepat dan efektif, sehingga menghasilkan kepuasan pelanggan yang lebih tinggi dan mengurangi churn.\n",
        "\n",
        "* Evaluasi struktur harga untuk tarif siang, malam, malam, dan internasional. Pertimbangkan untuk menyesuaikan paket harga atau memperkenalkan paket diskon untuk mengatasi biaya lebih tinggi yang terkait dengan pelanggan yang melakukan churn.\n",
        "\n",
        "* Fokus pada strategi retensi pelanggan di negara-negara dengan tingkat churn yang lebih tinggi, seperti Texas, New Jersey, Maryland, Miami, dan New York. Hal ini dapat melibatkan kampanye pemasaran yang ditargetkan, penawaran yang dipersonalisasi, atau peningkatan dukungan pelanggan yang disesuaikan dengan kebutuhan dan preferensi spesifik pelanggan di negara bagian tersebut.\n",
        "\n",
        "* Meningkatkan proposisi nilai rencana pesan suara untuk meningkatkan adopsi di kalangan pelanggan. Soroti manfaat dan kenyamanan layanan pesan suara, dan pertimbangkan untuk menawarkan fitur atau diskon tambahan untuk mendorong pelanggan mendaftar."
      ]
    }
  ],
  "metadata": {
    "colab": {
      "provenance": []
    },
    "kernelspec": {
      "display_name": "Python 3",
      "name": "python3"
    },
    "language_info": {
      "name": "python"
    }
  },
  "nbformat": 4,
  "nbformat_minor": 0
}
